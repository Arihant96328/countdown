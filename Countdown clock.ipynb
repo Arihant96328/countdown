{
 "cells": [
  {
   "cell_type": "code",
   "execution_count": 37,
   "metadata": {},
   "outputs": [],
   "source": [
    "#import tkinter and all files\n",
    "from tkinter import *\n",
    "t=0"
   ]
  },
  {
   "cell_type": "code",
   "execution_count": 38,
   "metadata": {},
   "outputs": [],
   "source": [
    "#create a function to set the timer\n",
    "def set_timer():\n",
    "    global t \n",
    "    t=t+int(entry.get())\n",
    "    return t\n",
    "#entry is the entry attribute which takes in value of the timer"
   ]
  },
  {
   "cell_type": "code",
   "execution_count": 66,
   "metadata": {},
   "outputs": [],
   "source": [
    "#function to run the program\n",
    "def count_down():\n",
    "    global t \n",
    "    if t>0:\n",
    "        l1.config(text=t)\n",
    "        t=t-1\n",
    "        l1.after(1000,count_down)\n",
    "    else:\n",
    "        print('End')\n",
    "        l1.config(text='Go')\n",
    "        \n",
    "        "
   ]
  },
  {
   "cell_type": "code",
   "execution_count": 67,
   "metadata": {},
   "outputs": [],
   "source": [
    "if __name__=='__main__':\n",
    "    gui=Tk()\n",
    "    gui.title('Countdown')\n",
    "    gui.geometry('180x125')\n",
    "    times=StringVar()\n",
    "    l1=Label(gui,font = 'times 20')\n",
    "    l1.grid(row=1,column=2)\n",
    "    entry=Entry(gui,textvariable=times)\n",
    "    entry.grid(row=3,column=2)\n",
    "    button=Button(gui,text='Set',width=20,command= lambda:set_timer() )\n",
    "    button.grid(row=4,column=2,padx=20)\n",
    "    button=Button(gui,text='Start',width=20,command= lambda: count_down() )\n",
    "    button.grid(row=5,column=2,padx=20)\n",
    "    gui.mainloop()\n",
    "    "
   ]
  },
  {
   "cell_type": "code",
   "execution_count": null,
   "metadata": {},
   "outputs": [],
   "source": []
  },
  {
   "cell_type": "code",
   "execution_count": null,
   "metadata": {},
   "outputs": [],
   "source": []
  }
 ],
 "metadata": {
  "kernelspec": {
   "display_name": "Python 3",
   "language": "python",
   "name": "python3"
  },
  "language_info": {
   "codemirror_mode": {
    "name": "ipython",
    "version": 3
   },
   "file_extension": ".py",
   "mimetype": "text/x-python",
   "name": "python",
   "nbconvert_exporter": "python",
   "pygments_lexer": "ipython3",
   "version": "3.7.6"
  }
 },
 "nbformat": 4,
 "nbformat_minor": 4
}
